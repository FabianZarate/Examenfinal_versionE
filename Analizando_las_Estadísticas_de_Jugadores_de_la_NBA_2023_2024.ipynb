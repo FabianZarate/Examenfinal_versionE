{
  "nbformat": 4,
  "nbformat_minor": 0,
  "metadata": {
    "colab": {
      "provenance": []
    },
    "kernelspec": {
      "name": "python3",
      "display_name": "Python 3"
    },
    "language_info": {
      "name": "python"
    }
  },
  "cells": [
    {
      "cell_type": "markdown",
      "source": [
        "Examen final:\n",
        "\n",
        "Limpieza de datos con Python:\n",
        "\n",
        "Detección y eliminación de valores duplicados: Asegúrate de que cada registro en el dataset sea único.\n",
        "\n",
        "Verificación y ajuste de tipos de datos:\n",
        "\n",
        "Asegúrate de que todas las columnas coincidan con los tipos de datos indicados en el diccionario de datos.\n",
        "Consistencia en valores categóricos: Identifica y corrige cualquier inconsistencia en los valores categóricos (por ejemplo, ‘Guard’, ‘guard’, ‘GUARD’).\n",
        "\n",
        "Manejo de valores faltantes:\n",
        "\n",
        "Identifica y maneja cualquier valor faltante en el dataset. Rellena los valores faltantes con un marcador adecuado para el tipo de dato.\n",
        "\n",
        "Detección de datos anómalos:\n",
        "\n",
        "Identifica y corrige cualquier punto de dato inapropiado o inusual (por ejemplo, un jugador con 100 puntos por partido).\n",
        "\n",
        "Exploración de datos con Python:\n",
        "\n",
        "Visualizaciones exploratorias univariadas:\n",
        "\n",
        "Crea dos tipos diferentes de visualizaciones univariadas. Cada visualización debe incluir una breve interpretación dentro del archivo de código.\n",
        "\n",
        "Visualizaciones exploratorias multivariadas:\n",
        "\n",
        "Crea dos tipos diferentes de visualizaciones multivariadas. Cada visualización debe incluir una breve interpretación dentro del archivo de código.\n",
        "\n",
        "Análisis adicional:\n",
        "\n",
        "Estadísticas descriptivas: Proporciona un resumen estadístico del dataset, incluyendo medidas de tendencia central y dispersión para las variables numéricas.\n",
        "\n",
        "Identificación de tendencias:\n",
        "\n",
        "Analiza y discute cualquier tendencia notable que observes en los datos, apoyándote en las visualizaciones y estadísticas descriptivas.\n",
        "\n",
        "Análisis de correlación:\n",
        "\n",
        "Identifica y analiza las correlaciones más fuertes entre las variables del dataset.\n",
        "\n",
        "-----------------------------------------------------------------------\n"
      ],
      "metadata": {
        "id": "zRteqi-_WuVw"
      }
    },
    {
      "cell_type": "markdown",
      "source": [
        "1.1 Detección y eliminación de valores duplicados: Asegúrate de que cada registro en el dataset sea único."
      ],
      "metadata": {
        "id": "sXkgmY2ZXS9a"
      }
    },
    {
      "cell_type": "code",
      "execution_count": 29,
      "metadata": {
        "colab": {
          "base_uri": "https://localhost:8080/"
        },
        "id": "sH4rfs43TALa",
        "outputId": "23e92dc1-0160-4cfd-86a4-5db78a24cffe"
      },
      "outputs": [
        {
          "output_type": "stream",
          "name": "stdout",
          "text": [
            "Drive already mounted at /content/drive; to attempt to forcibly remount, call drive.mount(\"/content/drive\", force_remount=True).\n",
            "  Rk;Player;Pos;Age;Tm;G;GS;MP;FG;FGA;FG%;3P;3PA;3P%;2P;2PA;2P%;eFG%;FT;FTA;FT%;ORB;DRB;TRB;AST;STL;BLK;TOV;PF;PTS\n",
            "0  1;Precious Achiuwa;PF-C;24;TOT;74;18;21.9;3.2;...                                                              \n",
            "1  1;Precious Achiuwa;C;24;TOR;25;0;17.5;3.1;6.8;...                                                              \n",
            "2  1;Precious Achiuwa;PF;24;NYK;49;18;24.2;3.2;6....                                                              \n",
            "3  2;Bam Adebayo;C;26;MIA;71;71;34;7.5;14.3;0.521...                                                              \n",
            "4  3;Ochai Agbaji;SG;23;TOT;78;28;21;2.3;5.6;0.41...                                                              \n",
            "  Rk;Player;Pos;Age;Tm;G;GS;MP;FG;FGA;FG%;3P;3PA;3P%;2P;2PA;2P%;eFG%;FT;FTA;FT%;ORB;DRB;TRB;AST;STL;BLK;TOV;PF;PTS\n",
            "0  1;Precious Achiuwa;PF;24;NYK;9;2;20.4;2.3;4.8;...                                                              \n",
            "1  2;Bam Adebayo;C;26;MIA;5;5;38.4;9.6;19.4;0.495...                                                              \n",
            "2  3;Nickeil Alexander-Walker;SG;25;MIN;16;1;23.6...                                                              \n",
            "3  4;Grayson Allen;SG;28;PHO;2;2;21.5;0.5;2.5;0.2...                                                              \n",
            "4  5;Jarrett Allen;C;25;CLE;4;4;31.8;6.3;9.3;0.67...                                                              \n"
          ]
        }
      ],
      "source": [
        "# Paso 1: Importo la biblioteca necesaria para manejar archivos en Google Drive\n",
        "from google.colab import drive\n",
        "\n",
        "# Me conecto a Google Drive\n",
        "drive.mount('/content/drive')\n",
        "\n",
        "# Paso 2: Importo otras bibliotecas necesarias para trabajar con archivos de Google Drive\n",
        "import pandas as pd\n",
        "\n",
        "# Aquí especifico las URLs de los archivos en Google Drive que me proporcionaste\n",
        "# Regular Season\n",
        "url_regular = 'https://drive.google.com/uc?id=1_dr3JMOOrT0qZzw0DwIUlTGv-V6ROY0n'\n",
        "\n",
        "# Playoffs\n",
        "url_playoff = 'https://drive.google.com/uc?id=15MFA8A0xNLYqHUHbGlJ7QUMnXFiu12Pm'\n",
        "\n",
        "# Paso 3: Utilizo Pandas para leer los archivos CSV directamente desde los enlaces\n",
        "# Agrego el parámetro encoding='ISO-8859-1' para evitar errores de codificación\n",
        "df_regular = pd.read_csv(url_regular, encoding='ISO-8859-1')\n",
        "df_playoff = pd.read_csv(url_playoff, encoding='ISO-8859-1')\n",
        "\n",
        "# Muestro un resumen rápido de ambos datasets para verificar que se cargaron correctamente\n",
        "print(df_regular.head())  # Muestra las primeras filas del archivo de la temporada regular\n",
        "print(df_playoff.head())  # Muestra las primeras filas del archivo de playoffs\n",
        "\n"
      ]
    },
    {
      "cell_type": "code",
      "source": [
        "# Paso 1: Detecto duplicados en el dataset de la temporada regular\n",
        "# Uso el método duplicated() para identificar duplicados y sumo cuántos hay\n",
        "duplicados_regular = df_regular.duplicated().sum()\n",
        "\n",
        "# Muestro cuántos duplicados hay en el dataset de la temporada regular\n",
        "print(f\"Duplicados en el dataset de la temporada regular: {duplicados_regular}\")\n",
        "# Conclusión: He identificado los duplicados en el dataset de la temporada regular."
      ],
      "metadata": {
        "colab": {
          "base_uri": "https://localhost:8080/"
        },
        "id": "COMJuqyOahIq",
        "outputId": "35c8a7f8-44dd-4e07-96c4-763fb5a17328"
      },
      "execution_count": 14,
      "outputs": [
        {
          "output_type": "stream",
          "name": "stdout",
          "text": [
            "Duplicados en el dataset de la temporada regular: 0\n"
          ]
        }
      ]
    },
    {
      "cell_type": "code",
      "source": [
        "# Paso 2: Elimino los duplicados si los hay en el dataset de la temporada regular\n",
        "df_regular = df_regular.drop_duplicates()\n",
        "# Conclusión: He eliminado los duplicados del dataset de la temporada regular."
      ],
      "metadata": {
        "id": "FKbUqS3-aqIJ"
      },
      "execution_count": 10,
      "outputs": []
    },
    {
      "cell_type": "code",
      "source": [
        "# Paso 3: Repito el proceso para el dataset de playoffs\n",
        "duplicados_playoff = df_playoff.duplicated().sum()\n",
        "print(f\"Duplicados en el dataset de playoffs: {duplicados_playoff}\")\n",
        "# Conclusión: He identificado los duplicados en el dataset de playoffs."
      ],
      "metadata": {
        "colab": {
          "base_uri": "https://localhost:8080/"
        },
        "id": "977hJ8lmatKU",
        "outputId": "f45212b8-080a-4a63-9271-e65b696039dc"
      },
      "execution_count": 15,
      "outputs": [
        {
          "output_type": "stream",
          "name": "stdout",
          "text": [
            "Duplicados en el dataset de playoffs: 0\n"
          ]
        }
      ]
    },
    {
      "cell_type": "code",
      "source": [
        "# Elimino los duplicados en el dataset de playoffs\n",
        "df_playoff = df_playoff.drop_duplicates()\n",
        "# Conclusión: He eliminado los duplicados del dataset de playoffs."
      ],
      "metadata": {
        "id": "7p4RfOfTawOV"
      },
      "execution_count": 17,
      "outputs": []
    },
    {
      "cell_type": "code",
      "source": [
        "# Paso 4: Verifico que no haya más duplicados en ambos datasets\n",
        "print(f\"Duplicados restantes en el dataset de temporada regular: {df_regular.duplicated().sum()}\")\n",
        "print(f\"Duplicados restantes en el dataset de playoffs: {df_playoff.duplicated().sum()}\")\n",
        "# Conclusión: He verificado que no quedan duplicados en ninguno de los dos datasets.\n",
        "\n",
        "#citas: Pandas documentation - duplicated()\n"
      ],
      "metadata": {
        "colab": {
          "base_uri": "https://localhost:8080/"
        },
        "id": "24TW1VXyazhG",
        "outputId": "bafb68b6-0087-4379-d35c-2749c1a98fa8"
      },
      "execution_count": 18,
      "outputs": [
        {
          "output_type": "stream",
          "name": "stdout",
          "text": [
            "Duplicados restantes en el dataset de temporada regular: 0\n",
            "Duplicados restantes en el dataset de playoffs: 0\n"
          ]
        }
      ]
    },
    {
      "cell_type": "code",
      "source": [
        "# Paso 1: Guardo el dataset de la temporada regular limpio en un archivo CSV\n",
        "df_regular.to_csv('/content/drive/MyDrive/regular_season_clean.csv', index=False)\n",
        "\n",
        "# Conclusión: He guardado el dataset de la temporada regular limpio como 'regular_season_clean.csv'.\n",
        "\n",
        "# Paso 2: Guardo el dataset de playoffs limpio en un archivo CSV\n",
        "df_playoff.to_csv('/content/drive/MyDrive/playoffs_clean.csv', index=False)\n",
        "\n",
        "# Conclusión: He guardado el dataset de playoffs limpio como 'playoffs_clean.csv'.\n"
      ],
      "metadata": {
        "id": "8HsoTARfcTDD"
      },
      "execution_count": 19,
      "outputs": []
    },
    {
      "cell_type": "markdown",
      "source": [
        "1.2 Verificación y ajuste de tipos de datos: Asegúrate de que todas las columnas coincidan con los tipos de datos indicados en el diccionario de datos."
      ],
      "metadata": {
        "id": "FvWia4CacPHq"
      }
    },
    {
      "cell_type": "code",
      "source": [
        "# Paso 1: Verifico los tipos de datos del dataset de la temporada regular\n",
        "print(df_regular.dtypes)\n",
        "\n",
        "# Conclusión: He revisado los tipos de datos del dataset de la temporada regular.\n"
      ],
      "metadata": {
        "colab": {
          "base_uri": "https://localhost:8080/"
        },
        "id": "7ffdQAAsdMLD",
        "outputId": "c711fb25-81d8-4bb7-d8c9-eaf2e53232cf"
      },
      "execution_count": 20,
      "outputs": [
        {
          "output_type": "stream",
          "name": "stdout",
          "text": [
            "Rk;Player;Pos;Age;Tm;G;GS;MP;FG;FGA;FG%;3P;3PA;3P%;2P;2PA;2P%;eFG%;FT;FTA;FT%;ORB;DRB;TRB;AST;STL;BLK;TOV;PF;PTS    object\n",
            "dtype: object\n"
          ]
        }
      ]
    },
    {
      "cell_type": "code",
      "source": [
        "# Paso 2: Verifico los tipos de datos del dataset de playoffs\n",
        "print(df_playoff.dtypes)\n",
        "\n",
        "# Conclusión: He revisado los tipos de datos del dataset de playoffs."
      ],
      "metadata": {
        "colab": {
          "base_uri": "https://localhost:8080/"
        },
        "id": "SBpeDr8-dNNZ",
        "outputId": "4137774e-ae90-4a3b-e331-eee42c6fe1e0"
      },
      "execution_count": 21,
      "outputs": [
        {
          "output_type": "stream",
          "name": "stdout",
          "text": [
            "Rk;Player;Pos;Age;Tm;G;GS;MP;FG;FGA;FG%;3P;3PA;3P%;2P;2PA;2P%;eFG%;FT;FTA;FT%;ORB;DRB;TRB;AST;STL;BLK;TOV;PF;PTS    object\n",
            "dtype: object\n"
          ]
        }
      ]
    },
    {
      "cell_type": "code",
      "source": [
        "# Paso 1: Recargo los archivos especificando el delimitador correcto (punto y coma) y la codificación 'ISO-8859-1'\n",
        "df_regular = pd.read_csv(url_regular, delimiter=';', encoding='ISO-8859-1')\n",
        "df_playoff = pd.read_csv(url_playoff, delimiter=';', encoding='ISO-8859-1')\n",
        "\n",
        "# Conclusión: He cargado correctamente los archivos de la temporada regular y playoffs utilizando el delimitador correcto (;) y la codificación adecuada.\n",
        "\n",
        "# Paso 2: Verifico los nombres de las columnas para asegurarme de que ahora se hayan cargado adecuadamente\n",
        "print(\"Columnas del dataset de la temporada regular:\")\n",
        "print(df_regular.columns)\n",
        "\n",
        "print(\"Columnas del dataset de playoffs:\")\n",
        "print(df_playoff.columns)\n",
        "\n",
        "# Conclusión: He verificado que los nombres de las columnas ahora son correctos.\n",
        "\n",
        "\n"
      ],
      "metadata": {
        "colab": {
          "base_uri": "https://localhost:8080/"
        },
        "id": "Pzv675BseeCg",
        "outputId": "3575e962-584d-45ec-f257-1219701ce251"
      },
      "execution_count": 33,
      "outputs": [
        {
          "output_type": "stream",
          "name": "stdout",
          "text": [
            "Columnas del dataset de la temporada regular:\n",
            "Index(['Rk', 'Player', 'Pos', 'Age', 'Tm', 'G', 'GS', 'MP', 'FG', 'FGA', 'FG%',\n",
            "       '3P', '3PA', '3P%', '2P', '2PA', '2P%', 'eFG%', 'FT', 'FTA', 'FT%',\n",
            "       'ORB', 'DRB', 'TRB', 'AST', 'STL', 'BLK', 'TOV', 'PF', 'PTS'],\n",
            "      dtype='object')\n",
            "Columnas del dataset de playoffs:\n",
            "Index(['Rk', 'Player', 'Pos', 'Age', 'Tm', 'G', 'GS', 'MP', 'FG', 'FGA', 'FG%',\n",
            "       '3P', '3PA', '3P%', '2P', '2PA', '2P%', 'eFG%', 'FT', 'FTA', 'FT%',\n",
            "       'ORB', 'DRB', 'TRB', 'AST', 'STL', 'BLK', 'TOV', 'PF', 'PTS'],\n",
            "      dtype='object')\n"
          ]
        }
      ]
    },
    {
      "cell_type": "code",
      "source": [
        "# Paso 1: Verifico los nombres de las columnas del dataset de la temporada regular\n",
        "print(\"Columnas del dataset de la temporada regular:\")\n",
        "print(df_regular.columns)\n",
        "\n",
        "# Paso 2: Verifico los nombres de las columnas del dataset de playoffs\n",
        "print(\"Columnas del dataset de playoffs:\")\n",
        "print(df_playoff.columns)\n"
      ],
      "metadata": {
        "colab": {
          "base_uri": "https://localhost:8080/"
        },
        "id": "NtYpWIxCgMx2",
        "outputId": "8be526dd-4840-406d-b993-ae48eec7f055"
      },
      "execution_count": 35,
      "outputs": [
        {
          "output_type": "stream",
          "name": "stdout",
          "text": [
            "Columnas del dataset de la temporada regular:\n",
            "Index(['Rk', 'Player', 'Pos', 'Age', 'Tm', 'G', 'GS', 'MP', 'FG', 'FGA', 'FG%',\n",
            "       '3P', '3PA', '3P%', '2P', '2PA', '2P%', 'eFG%', 'FT', 'FTA', 'FT%',\n",
            "       'ORB', 'DRB', 'TRB', 'AST', 'STL', 'BLK', 'TOV', 'PF', 'PTS'],\n",
            "      dtype='object')\n",
            "Columnas del dataset de playoffs:\n",
            "Index(['Rk', 'Player', 'Pos', 'Age', 'Tm', 'G', 'GS', 'MP', 'FG', 'FGA', 'FG%',\n",
            "       '3P', '3PA', '3P%', '2P', '2PA', '2P%', 'eFG%', 'FT', 'FTA', 'FT%',\n",
            "       'ORB', 'DRB', 'TRB', 'AST', 'STL', 'BLK', 'TOV', 'PF', 'PTS'],\n",
            "      dtype='object')\n"
          ]
        }
      ]
    },
    {
      "cell_type": "code",
      "source": [
        "# Paso 1: Ajusto los tipos de datos en el dataset de la temporada regular\n",
        "# Ajusto la columna 'PTS' (puntos) a numérico para la temporada regular\n",
        "df_regular['PTS'] = pd.to_numeric(df_regular['PTS'], errors='coerce')\n",
        "\n",
        "# Conclusión: He ajustado los tipos de datos en la columna 'PTS' del dataset de la temporada regular.\n",
        "\n",
        "# Paso 2: Ajusto los tipos de datos en el dataset de playoffs\n",
        "# Ajusto la columna 'PTS' (puntos) a numérico para los playoffs\n",
        "df_playoff['PTS'] = pd.to_numeric(df_playoff['PTS'], errors='coerce')\n",
        "\n",
        "# Conclusión: He ajustado los tipos de datos en la columna 'PTS' del dataset de playoffs.\n",
        "\n",
        "# Paso 3: Verifico nuevamente los tipos de datos para asegurarme de que todo esté correcto\n",
        "print(df_regular.dtypes)\n",
        "print(df_playoff.dtypes)\n",
        "\n",
        "# Conclusión: He verificado que los tipos de datos ajustados sean correctos.\n",
        "\n",
        "\n"
      ],
      "metadata": {
        "colab": {
          "base_uri": "https://localhost:8080/"
        },
        "id": "O14eIhENdQh5",
        "outputId": "be4e742c-96e8-49c8-d832-c39163982e8f"
      },
      "execution_count": 36,
      "outputs": [
        {
          "output_type": "stream",
          "name": "stdout",
          "text": [
            "Rk          int64\n",
            "Player     object\n",
            "Pos        object\n",
            "Age         int64\n",
            "Tm         object\n",
            "G           int64\n",
            "GS          int64\n",
            "MP        float64\n",
            "FG        float64\n",
            "FGA       float64\n",
            "FG%       float64\n",
            "3P        float64\n",
            "3PA       float64\n",
            "3P%       float64\n",
            "2P        float64\n",
            "2PA       float64\n",
            "2P%       float64\n",
            "eFG%      float64\n",
            "FT        float64\n",
            "FTA       float64\n",
            "FT%       float64\n",
            "ORB       float64\n",
            "DRB       float64\n",
            "TRB       float64\n",
            "AST       float64\n",
            "STL       float64\n",
            "BLK       float64\n",
            "TOV       float64\n",
            "PF        float64\n",
            "PTS       float64\n",
            "dtype: object\n",
            "Rk          int64\n",
            "Player     object\n",
            "Pos        object\n",
            "Age         int64\n",
            "Tm         object\n",
            "G           int64\n",
            "GS          int64\n",
            "MP        float64\n",
            "FG        float64\n",
            "FGA       float64\n",
            "FG%       float64\n",
            "3P        float64\n",
            "3PA       float64\n",
            "3P%       float64\n",
            "2P        float64\n",
            "2PA       float64\n",
            "2P%       float64\n",
            "eFG%      float64\n",
            "FT        float64\n",
            "FTA       float64\n",
            "FT%       float64\n",
            "ORB       float64\n",
            "DRB       float64\n",
            "TRB       float64\n",
            "AST       float64\n",
            "STL       float64\n",
            "BLK       float64\n",
            "TOV       float64\n",
            "PF        float64\n",
            "PTS       float64\n",
            "dtype: object\n"
          ]
        }
      ]
    },
    {
      "cell_type": "markdown",
      "source": [
        "1.3 Consistencia en valores categóricos: Identifica y corrige cualquier inconsistencia en los valores categóricos (por ejemplo, ‘Guard’, ‘guard’, ‘GUARD’).\n"
      ],
      "metadata": {
        "id": "My8z2oGEg84m"
      }
    },
    {
      "cell_type": "code",
      "source": [
        "# Paso 1: Verifico los valores únicos en la columna 'Pos' para identificar inconsistencias en las posiciones de los jugadores\n",
        "print(\"Valores únicos en la columna 'Pos' en el dataset de la temporada regular:\")\n",
        "print(df_regular['Pos'].unique())\n",
        "\n",
        "print(\"Valores únicos en la columna 'Pos' en el dataset de playoffs:\")\n",
        "print(df_playoff['Pos'].unique())\n",
        "# Conclusión: He identificado los valores únicos en la columna 'Pos' para detectar posibles inconsistencias.\n"
      ],
      "metadata": {
        "colab": {
          "base_uri": "https://localhost:8080/"
        },
        "id": "sfAe0LkMg4-S",
        "outputId": "c00c8bed-66f9-43fb-d5a1-32d3b3995421"
      },
      "execution_count": 37,
      "outputs": [
        {
          "output_type": "stream",
          "name": "stdout",
          "text": [
            "Valores únicos en la columna 'Pos' en el dataset de la temporada regular:\n",
            "['PF-C' 'C' 'PF' 'SG' 'SF' 'PG' 'SF-PF' 'PG-SG' 'C-PF' 'PF-SF' 'SF-SG'\n",
            " 'SG-PG']\n",
            "Valores únicos en la columna 'Pos' en el dataset de playoffs:\n",
            "['PF' 'C' 'SG' 'PG' 'SF']\n"
          ]
        }
      ]
    },
    {
      "cell_type": "code",
      "source": [
        "# Paso 2: Estandarizo los valores de la columna 'Pos' a mayúsculas en ambos datasets para evitar inconsistencias\n",
        "df_regular['Pos'] = df_regular['Pos'].str.upper()\n",
        "df_playoff['Pos'] = df_playoff['Pos'].str.upper()\n",
        "\n",
        "# Conclusión: He corregido cualquier inconsistencia en los valores categóricos de la columna 'Pos'.\n"
      ],
      "metadata": {
        "id": "chD7xm7Gg_qy"
      },
      "execution_count": 38,
      "outputs": []
    },
    {
      "cell_type": "code",
      "source": [
        "# Paso 3: Verifico nuevamente los valores únicos para asegurar que se han estandarizado correctamente\n",
        "print(\"Valores únicos en la columna 'Pos' después de la estandarización (temporada regular):\")\n",
        "print(df_regular['Pos'].unique())\n",
        "\n",
        "print(\"Valores únicos en la columna 'Pos' después de la estandarización (playoffs):\")\n",
        "print(df_playoff['Pos'].unique())\n",
        "\n",
        "# Conclusión: He verificado que los valores categóricos de la columna 'Pos' se han estandarizado correctamente.\n",
        "#citas: https://pandas.pydata.org/docs/reference/api/pandas.Series.unique.html"
      ],
      "metadata": {
        "colab": {
          "base_uri": "https://localhost:8080/"
        },
        "id": "AcweGus5hHQj",
        "outputId": "5537d5ef-4c6f-4cbe-b3c0-11837b6da664"
      },
      "execution_count": 40,
      "outputs": [
        {
          "output_type": "stream",
          "name": "stdout",
          "text": [
            "Valores únicos en la columna 'Pos' después de la estandarización (temporada regular):\n",
            "['PF-C' 'C' 'PF' 'SG' 'SF' 'PG' 'SF-PF' 'PG-SG' 'C-PF' 'PF-SF' 'SF-SG'\n",
            " 'SG-PG']\n",
            "Valores únicos en la columna 'Pos' después de la estandarización (playoffs):\n",
            "['PF' 'C' 'SG' 'PG' 'SF']\n"
          ]
        }
      ]
    },
    {
      "cell_type": "code",
      "source": [
        "# Paso 1: Guardo el dataset de la temporada regular limpio en un archivo CSV\n",
        "df_regular.to_csv('/content/drive/MyDrive/regular_season_clean.csv', index=False)\n",
        "\n",
        "# Conclusión: He guardado el dataset de la temporada regular limpio como 'regular_season_clean.csv'.\n",
        "\n",
        "# Paso 2: Guardo el dataset de playoffs limpio en un archivo CSV\n",
        "df_playoff.to_csv('/content/drive/MyDrive/playoffs_clean.csv', index=False)\n",
        "\n",
        "# Conclusión: He guardado el dataset de playoffs limpio como 'playoffs_clean.csv'.\n"
      ],
      "metadata": {
        "id": "F4a1lTHJi4yO"
      },
      "execution_count": 43,
      "outputs": []
    },
    {
      "cell_type": "markdown",
      "source": [
        "1.4 Manejo de valores faltantes: Identifica y maneja cualquier valor faltante en el dataset. Rellena los valores faltantes con un marcador adecuado para el tipo de dato."
      ],
      "metadata": {
        "id": "uSkUNpxtiEsY"
      }
    },
    {
      "cell_type": "code",
      "source": [
        "# Paso 1: Verifico si hay valores faltantes en el dataset de la temporada regular\n",
        "print(\"Valores faltantes en el dataset de la temporada regular:\")\n",
        "print(df_regular.isnull().sum())\n",
        "\n",
        "# Conclusión: He identificado los valores faltantes en el dataset de la temporada regular."
      ],
      "metadata": {
        "colab": {
          "base_uri": "https://localhost:8080/"
        },
        "id": "2x3Hd6Z-iEV4",
        "outputId": "ef4eacf1-6333-41b2-ed42-ae8103d6c4ac"
      },
      "execution_count": 46,
      "outputs": [
        {
          "output_type": "stream",
          "name": "stdout",
          "text": [
            "Valores faltantes en el dataset de la temporada regular:\n",
            "Rk        0\n",
            "Player    0\n",
            "Pos       0\n",
            "Age       0\n",
            "Tm        0\n",
            "G         0\n",
            "GS        0\n",
            "MP        0\n",
            "FG        0\n",
            "FGA       0\n",
            "FG%       0\n",
            "3P        0\n",
            "3PA       0\n",
            "3P%       0\n",
            "2P        0\n",
            "2PA       0\n",
            "2P%       0\n",
            "eFG%      0\n",
            "FT        0\n",
            "FTA       0\n",
            "FT%       0\n",
            "ORB       0\n",
            "DRB       0\n",
            "TRB       0\n",
            "AST       0\n",
            "STL       0\n",
            "BLK       0\n",
            "TOV       0\n",
            "PF        0\n",
            "PTS       0\n",
            "dtype: int64\n"
          ]
        }
      ]
    },
    {
      "cell_type": "code",
      "source": [
        "# Paso 2: Verifico si hay valores faltantes en el dataset de playoffs\n",
        "print(\"Valores faltantes en el dataset de playoffs:\")\n",
        "print(df_playoff.isnull().sum())\n",
        "# Conclusión: He identificado los valores faltantes en el dataset de playoffs."
      ],
      "metadata": {
        "colab": {
          "base_uri": "https://localhost:8080/"
        },
        "id": "N03_7I48jXLT",
        "outputId": "bb3ad821-9102-43c7-ee7f-414686abaf41"
      },
      "execution_count": 48,
      "outputs": [
        {
          "output_type": "stream",
          "name": "stdout",
          "text": [
            "Valores faltantes en el dataset de playoffs:\n",
            "Rk        0\n",
            "Player    0\n",
            "Pos       0\n",
            "Age       0\n",
            "Tm        0\n",
            "G         0\n",
            "GS        0\n",
            "MP        0\n",
            "FG        0\n",
            "FGA       0\n",
            "FG%       0\n",
            "3P        0\n",
            "3PA       0\n",
            "3P%       0\n",
            "2P        0\n",
            "2PA       0\n",
            "2P%       0\n",
            "eFG%      0\n",
            "FT        0\n",
            "FTA       0\n",
            "FT%       0\n",
            "ORB       0\n",
            "DRB       0\n",
            "TRB       0\n",
            "AST       0\n",
            "STL       0\n",
            "BLK       0\n",
            "TOV       0\n",
            "PF        0\n",
            "PTS       0\n",
            "dtype: int64\n"
          ]
        }
      ]
    },
    {
      "cell_type": "code",
      "source": [
        "# Paso 3: Relleno los valores faltantes con marcadores adecuados:\n",
        "# Para columnas numéricas, rellenamos con 0.\n",
        "# Para columnas categóricas, rellenamos con 'Desconocido'.\n",
        "\n",
        "# Temporada regular\n",
        "df_regular.fillna({\n",
        "    'Pos': 'Desconocido',  # Si hay valores faltantes en la posición, se rellenan con 'Desconocido'\n",
        "    'Age': 0,              # Si hay valores faltantes en edad, se rellenan con 0\n",
        "    'PTS': 0               # Si hay valores faltantes en puntos, se rellenan con 0\n",
        "}, inplace=True)\n",
        "\n",
        "# Playoffs\n",
        "df_playoff.fillna({\n",
        "    'Pos': 'Desconocido',  # Si hay valores faltantes en la posición, se rellenan con 'Desconocido'\n",
        "    'Age': 0,              # Si hay valores faltantes en edad, se rellenan con 0\n",
        "    'PTS': 0               # Si hay valores faltantes en puntos, se rellenan con 0\n",
        "}, inplace=True)\n",
        "\n",
        "# Conclusión: He rellenado los valores faltantes en ambos datasets."
      ],
      "metadata": {
        "id": "WdXC3IN9jcMy"
      },
      "execution_count": 49,
      "outputs": []
    },
    {
      "cell_type": "code",
      "source": [
        "# Paso 4: Verifico nuevamente si quedan valores faltantes\n",
        "print(\"Verificación después de rellenar valores faltantes en el dataset de la temporada regular:\")\n",
        "print(df_regular.isnull().sum())\n",
        "\n",
        "print(\"Verificación después de rellenar valores faltantes en el dataset de playoffs:\")\n",
        "print(df_playoff.isnull().sum())\n",
        "\n",
        "# Conclusión: He verificado que no quedan valores faltantes en ninguno de los datasets.\n",
        "#cita:Pandas documentation - isnull(): https://pandas.pydata.org/docs/reference/api/pandas.DataFrame.isnull.html\n",
        "#https://pandas.pydata.org/docs/reference/api/pandas.DataFrame.fillna.html"
      ],
      "metadata": {
        "colab": {
          "base_uri": "https://localhost:8080/"
        },
        "id": "L6lFAs8yjhMB",
        "outputId": "6b7cc93f-8115-4fc9-dc0c-147388e45b9d"
      },
      "execution_count": 50,
      "outputs": [
        {
          "output_type": "stream",
          "name": "stdout",
          "text": [
            "Verificación después de rellenar valores faltantes en el dataset de la temporada regular:\n",
            "Rk        0\n",
            "Player    0\n",
            "Pos       0\n",
            "Age       0\n",
            "Tm        0\n",
            "G         0\n",
            "GS        0\n",
            "MP        0\n",
            "FG        0\n",
            "FGA       0\n",
            "FG%       0\n",
            "3P        0\n",
            "3PA       0\n",
            "3P%       0\n",
            "2P        0\n",
            "2PA       0\n",
            "2P%       0\n",
            "eFG%      0\n",
            "FT        0\n",
            "FTA       0\n",
            "FT%       0\n",
            "ORB       0\n",
            "DRB       0\n",
            "TRB       0\n",
            "AST       0\n",
            "STL       0\n",
            "BLK       0\n",
            "TOV       0\n",
            "PF        0\n",
            "PTS       0\n",
            "dtype: int64\n",
            "Verificación después de rellenar valores faltantes en el dataset de playoffs:\n",
            "Rk        0\n",
            "Player    0\n",
            "Pos       0\n",
            "Age       0\n",
            "Tm        0\n",
            "G         0\n",
            "GS        0\n",
            "MP        0\n",
            "FG        0\n",
            "FGA       0\n",
            "FG%       0\n",
            "3P        0\n",
            "3PA       0\n",
            "3P%       0\n",
            "2P        0\n",
            "2PA       0\n",
            "2P%       0\n",
            "eFG%      0\n",
            "FT        0\n",
            "FTA       0\n",
            "FT%       0\n",
            "ORB       0\n",
            "DRB       0\n",
            "TRB       0\n",
            "AST       0\n",
            "STL       0\n",
            "BLK       0\n",
            "TOV       0\n",
            "PF        0\n",
            "PTS       0\n",
            "dtype: int64\n"
          ]
        }
      ]
    },
    {
      "cell_type": "code",
      "source": [
        "# Paso 1: Guardo el dataset de la temporada regular limpio en un archivo CSV\n",
        "df_regular.to_csv('/content/drive/MyDrive/regular_season_clean.csv', index=False)\n",
        "\n",
        "# Conclusión: He guardado el dataset de la temporada regular limpio como 'regular_season_clean.csv'.\n",
        "\n",
        "# Paso 2: Guardo el dataset de playoffs limpio en un archivo CSV\n",
        "df_playoff.to_csv('/content/drive/MyDrive/playoffs_clean.csv', index=False)\n",
        "\n",
        "# Conclusión: He guardado el dataset de playoffs limpio como 'playoffs_clean.csv'.\n"
      ],
      "metadata": {
        "id": "Xb9aX8cqkLuM"
      },
      "execution_count": 51,
      "outputs": []
    },
    {
      "cell_type": "markdown",
      "source": [
        "1.5 Detección de datos anómalos: Identifica y corrige cualquier punto de dato inapropiado o inusual (por ejemplo, un jugador con 100 puntos por partido)."
      ],
      "metadata": {
        "id": "MgCRYxP_j3c3"
      }
    },
    {
      "cell_type": "code",
      "source": [
        "# Paso 1: Defino una función para identificar datos anómalos usando el rango intercuartil (IQR)\n",
        "def detectar_outliers_iqr(df, columna):\n",
        "    Q1 = df[columna].quantile(0.25)\n",
        "    Q3 = df[columna].quantile(0.75)\n",
        "    IQR = Q3 - Q1\n",
        "    lower_bound = Q1 - 1.5 * IQR\n",
        "    upper_bound = Q3 + 1.5 * IQR\n",
        "    outliers = df[(df[columna] < lower_bound) | (df[columna] > upper_bound)]\n",
        "    return outliers\n",
        "\n",
        "# Conclusión: He definido la función para detectar valores atípicos usando el rango intercuartil (IQR).\n",
        "\n"
      ],
      "metadata": {
        "id": "2W4Q7dj0kS5n"
      },
      "execution_count": 53,
      "outputs": []
    },
    {
      "cell_type": "code",
      "source": [
        "# Paso 2: Identifico los valores atípicos en la columna 'PTS' (puntos) de la temporada regular\n",
        "print(\"Valores atípicos en la columna 'PTS' en la temporada regular:\")\n",
        "outliers_regular = detectar_outliers_iqr(df_regular, 'PTS')\n",
        "print(outliers_regular)\n",
        "\n",
        "# Conclusión: He identificado los valores atípicos en la columna 'PTS' del dataset de la temporada regular.\n"
      ],
      "metadata": {
        "colab": {
          "base_uri": "https://localhost:8080/"
        },
        "id": "-R7WW_98lHaT",
        "outputId": "ad4600db-61fc-4d86-81b8-ba1f7c897685"
      },
      "execution_count": 54,
      "outputs": [
        {
          "output_type": "stream",
          "name": "stdout",
          "text": [
            "Valores atípicos en la columna 'PTS' en la temporada regular:\n",
            "      Rk              Player Pos  Age   Tm   G  GS    MP   FG   FGA  ...  \\\n",
            "42    31          RJ Barrett  SG   23  TOR  32  32  33.5  8.5  15.4  ...   \n",
            "91    62       Miles Bridges  SF   25  CHO  69  67  37.4  8.1  17.5  ...   \n",
            "117   82        Jimmy Butler  PF   34  MIA  60  60  34.0  6.6  13.2  ...   \n",
            "248  181        Jerami Grant  PF   29  POR  54  54  33.9  7.1  15.7  ...   \n",
            "287  216         Tyler Herro  SG   24  MIA  42  40  33.5  7.7  17.5  ...   \n",
            "313  238      Brandon Ingram  SF   26  NOP  64  64  32.9  7.8  15.9  ...   \n",
            "320  245   Jaren Jackson Jr.   C   24  MEM  66  66  32.2  7.8  17.6  ...   \n",
            "363  286          Kyle Kuzma  PF   28  WAS  70  70  32.6  8.7  18.8  ...   \n",
            "471  363     Dejounte Murray  SG   27  ATL  78  78  35.7  8.6  18.8  ...   \n",
            "472  364        Jamal Murray  PG   26  DEN  59  59  31.5  8.0  16.7  ...   \n",
            "590  455      Alperen Sengun   C   21  HOU  63  63  32.5  8.4  15.6  ...   \n",
            "597  462       Pascal Siakam  PF   29  TOT  80  80  33.2  8.5  15.9  ...   \n",
            "598  462       Pascal Siakam  PF   29  TOR  39  39  34.7  8.3  16.0  ...   \n",
            "599  462       Pascal Siakam  PF   29  IND  41  41  31.8  8.7  15.8  ...   \n",
            "637  494          Cam Thomas  SG   22  BRK  66  51  31.4  8.0  18.0  ...   \n",
            "651  506  Karl-Anthony Towns  PF   28  MIN  62  62  32.7  7.7  15.3  ...   \n",
            "690  537   Victor Wembanyama   C   20  SAS  71  71  29.7  7.8  16.7  ...   \n",
            "\n",
            "       FT%  ORB  DRB   TRB  AST  STL  BLK  TOV   PF   PTS  \n",
            "42   0.629  1.1  5.3   6.4  4.1  0.6  0.4  2.5  2.6  21.8  \n",
            "91   0.825  1.0  6.3   7.3  3.3  0.9  0.5  2.0  1.7  21.0  \n",
            "117  0.858  1.8  3.6   5.3  5.0  1.3  0.3  1.7  1.1  20.8  \n",
            "248  0.817  0.7  2.9   3.5  2.8  0.8  0.6  2.1  2.2  21.0  \n",
            "287  0.856  0.5  4.8   5.3  4.5  0.7  0.1  2.2  1.5  20.8  \n",
            "313  0.801  0.7  4.4   5.1  5.7  0.8  0.6  2.5  2.3  20.8  \n",
            "320  0.808  1.3  4.2   5.5  2.3  1.2  1.6  2.4  3.6  22.5  \n",
            "363  0.775  0.9  5.7   6.6  4.2  0.5  0.7  2.7  2.2  22.2  \n",
            "471  0.794  0.8  4.5   5.3  6.4  1.4  0.3  2.6  1.8  22.5  \n",
            "472  0.853  0.7  3.4   4.1  6.5  1.0  0.7  2.1  1.8  21.2  \n",
            "590  0.693  2.9  6.4   9.3  5.0  1.2  0.7  2.6  3.3  21.1  \n",
            "597  0.732  1.7  5.3   7.1  4.3  0.8  0.3  1.8  2.4  21.7  \n",
            "598  0.758  1.4  4.9   6.3  4.9  0.8  0.3  2.1  2.2  22.2  \n",
            "599  0.699  2.1  5.7   7.8  3.7  0.8  0.4  1.4  2.6  21.3  \n",
            "637  0.856  0.4  2.8   3.2  2.9  0.7  0.2  1.9  2.1  22.5  \n",
            "651  0.873  1.5  6.8   8.3  3.0  0.7  0.7  2.9  3.3  21.8  \n",
            "690  0.796  2.3  8.4  10.6  3.9  1.2  3.6  3.7  2.2  21.4  \n",
            "\n",
            "[17 rows x 30 columns]\n"
          ]
        }
      ]
    },
    {
      "cell_type": "code",
      "source": [
        "# Paso 3: Identifico los valores atípicos en la columna 'PTS' (puntos) de los playoffs\n",
        "print(\"Valores atípicos en la columna 'PTS' en los playoffs:\")\n",
        "outliers_playoff = detectar_outliers_iqr(df_playoff, 'PTS')\n",
        "print(outliers_playoff)\n",
        "\n",
        "# Conclusión: He identificado los valores atípicos en la columna 'PTS' del dataset de los playoffs."
      ],
      "metadata": {
        "colab": {
          "base_uri": "https://localhost:8080/"
        },
        "id": "pa8NbBinlK72",
        "outputId": "fc5d59e5-2577-4e9b-e44c-0c0301e890fb"
      },
      "execution_count": 55,
      "outputs": [
        {
          "output_type": "stream",
          "name": "stdout",
          "text": [
            "Valores atípicos en la columna 'PTS' en los playoffs:\n",
            "      Rk            Player Pos  Age   Tm   G  GS    MP    FG   FGA  ...  \\\n",
            "42    43       Luka Don?i?  PG   24  DAL  22  22  40.9  10.2  22.9  ...   \n",
            "97    98      Nikola Joki?   C   28  DEN  12  12  40.2  11.1  20.3  ...   \n",
            "133  134  Donovan Mitchell  SG   27  CLE  10  10  38.2  10.7  22.5  ...   \n",
            "\n",
            "       FT%  ORB  DRB   TRB  AST  STL  BLK  TOV   PF   PTS  \n",
            "42   0.765  0.7  8.7   9.5  8.1  1.9  0.4  4.1  2.5  28.9  \n",
            "97   0.901  3.6  9.8  13.4  8.7  1.4  0.7  3.3  2.7  28.7  \n",
            "133  0.815  0.6  4.8   5.4  4.7  1.3  0.3  2.8  2.9  29.6  \n",
            "\n",
            "[3 rows x 30 columns]\n"
          ]
        }
      ]
    },
    {
      "cell_type": "code",
      "source": [
        "# Paso 4: Opcionalmente, podríamos corregir estos valores atípicos eliminándolos o ajustándolos a valores más razonables.\n",
        "# Si se quieren eliminar:\n",
        "df_regular = df_regular[~df_regular.index.isin(outliers_regular.index)]\n",
        "df_playoff = df_playoff[~df_playoff.index.isin(outliers_playoff.index)]\n",
        "\n",
        "# Conclusión: He corregido los valores anómalos eliminándolos de los datasets.\n",
        "#cita: https://pandas.pydata.org/docs/reference/api/pandas.DataFrame.quantile.html\n",
        "#cita: https://pandas.pydata.org/docs/reference/api/pandas.DataFrame.isin.html"
      ],
      "metadata": {
        "id": "bAhIm8NZlQge"
      },
      "execution_count": 57,
      "outputs": []
    },
    {
      "cell_type": "code",
      "source": [
        "# Paso 1: Guardo el dataset de la temporada regular limpio en un archivo CSV\n",
        "df_regular.to_csv('/content/drive/MyDrive/regular_season_clean_with_anomalies_removed.csv', index=False)\n",
        "\n",
        "# Conclusión: He guardado el dataset de la temporada regular limpio como 'regular_season_clean_with_anomalies_removed.csv'.\n",
        "\n",
        "# Paso 2: Guardo el dataset de playoffs limpio en un archivo CSV\n",
        "df_playoff.to_csv('/content/drive/MyDrive/playoffs_clean_with_anomalies_removed.csv', index=False)\n",
        "\n",
        "# Conclusión: He guardado el dataset de playoffs limpio como 'playoffs_clean_with_anomalies_removed.csv'.\n"
      ],
      "metadata": {
        "id": "2O8NJwnQlewR"
      },
      "execution_count": 58,
      "outputs": []
    },
    {
      "cell_type": "markdown",
      "source": [
        "2.1 Exploración de datos con Python:\n",
        "Visualizaciones exploratorias univariadas: Crea dos tipos diferentes de visualizaciones univariadas. Cada visualización debe incluir una breve interpretación dentro del archivo de código."
      ],
      "metadata": {
        "id": "VKqxGI99lyM6"
      }
    },
    {
      "cell_type": "code",
      "source": [
        "import matplotlib.pyplot as plt\n",
        "\n",
        "# Paso 1: Crear un histograma para visualizar la distribución de 'PTS' en la temporada regular\n",
        "plt.figure(figsize=(10, 6))\n",
        "plt.hist(df_regular['PTS'], bins=20, color='skyblue', edgecolor='black')\n",
        "plt.title('Distribución de Puntos (PTS) en la Temporada Regular')\n",
        "plt.xlabel('Puntos por Partido')\n",
        "plt.ylabel('Frecuencia')\n",
        "plt.grid(True)\n",
        "plt.show()\n",
        "\n",
        "# Conclusión: He generado un histograma que muestra la distribución de los puntos en la temporada regular.\n",
        "# Interpretación: La mayoría de los jugadores anotan menos de 30 puntos por partido, con unos pocos jugadores que alcanzan puntuaciones más altas.\n",
        "#citahistograma: https://pandas.pydata.org/docs/reference/api/pandas.DataFrame.hist.html\n",
        "#citamatplolib: https://matplotlib.org/stable/api/_as_gen/matplotlib.pyplot.boxplot.html\n"
      ],
      "metadata": {
        "colab": {
          "base_uri": "https://localhost:8080/",
          "height": 565
        },
        "id": "IKc3hSnBl2bG",
        "outputId": "62fabb22-8ca7-43f3-8dd2-3d85d3fde3fe"
      },
      "execution_count": 59,
      "outputs": [
        {
          "output_type": "display_data",
          "data": {
            "text/plain": [
              "<Figure size 1000x600 with 1 Axes>"
            ],
            "image/png": "[encoded data removed]"
          },
          "metadata": {}
        }
      ]
    },
    {
      "cell_type": "code",
      "source": [
        "# Paso 2: Crear un boxplot para visualizar la dispersión de 'PTS' en los playoffs\n",
        "plt.figure(figsize=(10, 6))\n",
        "plt.boxplot(df_playoff['PTS'], vert=False, patch_artist=True, boxprops=dict(facecolor='lightgreen'))\n",
        "plt.title('Dispersión de Puntos (PTS) en los Playoffs')\n",
        "plt.xlabel('Puntos por Partido')\n",
        "plt.grid(True)\n",
        "plt.show()\n",
        "\n",
        "# Conclusión: He generado un boxplot que muestra la dispersión de los puntos en los playoffs.\n",
        "# Interpretación: El boxplot revela la presencia de valores atípicos, con algunos jugadores que se destacan por anotar significativamente más puntos que la mediana.\n",
        "#citaboplox: https://pandas.pydata.org/docs/reference/api/pandas.DataFrame.boxplot.html"
      ],
      "metadata": {
        "colab": {
          "base_uri": "https://localhost:8080/",
          "height": 565
        },
        "id": "KniL5LX0mJ9-",
        "outputId": "6d229100-3bdc-477b-b690-70d183aab06e"
      },
      "execution_count": 60,
      "outputs": [
        {
          "output_type": "display_data",
          "data": {
            "text/plain": [
              "<Figure size 1000x600 with 1 Axes>"
            ],
            "image/png": "[encoded data removed]"
          },
          "metadata": {}
        }
      ]
    },
    {
      "cell_type": "markdown",
      "source": [
        "2.2 Visualizaciones exploratorias multivariadas: Crea dos tipos diferentes de visualizaciones multivariadas. Cada visualización debe incluir una breve interpretación dentro del archivo de código."
      ],
      "metadata": {
        "id": "omOIKNL7m3Ts"
      }
    },
    {
      "cell_type": "code",
      "source": [
        "# Importamos las bibliotecas necesarias\n",
        "import matplotlib.pyplot as plt\n",
        "\n",
        "# Paso 1: Crear un gráfico de dispersión entre 'PTS' (Puntos) y 'MP' (Minutos Jugados)\n",
        "plt.figure(figsize=(10, 6))\n",
        "plt.scatter(df_regular['MP'], df_regular['PTS'], color='blue', alpha=0.6)\n",
        "plt.title('Relación entre Puntos (PTS) y Minutos Jugados (MP) en la Temporada Regular')\n",
        "plt.xlabel('Minutos Jugados (MP)')\n",
        "plt.ylabel('Puntos (PTS)')\n",
        "plt.grid(True)\n",
        "plt.show()\n",
        "\n",
        "# Conclusión: He generado un gráfico de dispersión que muestra la relación entre puntos y minutos jugados.\n",
        "# Interpretación: Existe una correlación positiva entre los minutos jugados y los puntos anotados. Los jugadores que juegan más tiempo tienden a anotar más puntos.\n",
        "#citaplt:https://matplotlib.org/stable/api/_as_gen/matplotlib.pyplot.scatter.html"
      ],
      "metadata": {
        "colab": {
          "base_uri": "https://localhost:8080/",
          "height": 565
        },
        "id": "CQcoXlILmlpN",
        "outputId": "cebb16d1-6f01-47cd-f836-0043b12e7821"
      },
      "execution_count": 61,
      "outputs": [
        {
          "output_type": "display_data",
          "data": {
            "text/plain": [
              "<Figure size 1000x600 with 1 Axes>"
            ],
            "image/png": "[encoded data removed]"
          },
          "metadata": {}
        }
      ]
    },
    {
      "cell_type": "code",
      "source": [
        "# Paso 2: Crear un gráfico de barras apiladas para mostrar la contribución de cada posición en los puntos\n",
        "import seaborn as sns\n",
        "\n",
        "# Agrupamos los datos por 'Pos' y calculamos la suma de 'PTS' para cada posición\n",
        "df_grouped = df_regular.groupby('Pos')['PTS'].sum().reset_index()\n",
        "\n",
        "# Creamos el gráfico de barras apiladas\n",
        "plt.figure(figsize=(10, 6))\n",
        "sns.barplot(x='Pos', y='PTS', data=df_grouped, palette='viridis')\n",
        "plt.title('Puntos Totales por Posición en la Temporada Regular')\n",
        "plt.xlabel('Posición')\n",
        "plt.ylabel('Puntos Totales')\n",
        "plt.grid(True)\n",
        "plt.show()\n",
        "\n",
        "# Conclusión: He generado un gráfico de barras apiladas que muestra la distribución de puntos según la posición.\n",
        "# Interpretación: Algunas posiciones, como los guardias y aleros, tienden a contribuir más a los puntos totales en comparación con otras posiciones.\n",
        "#citabarplot:https://seaborn.pydata.org/generated/seaborn.barplot.html"
      ],
      "metadata": {
        "colab": {
          "base_uri": "https://localhost:8080/",
          "height": 1000
        },
        "id": "KrNyAuoFm-16",
        "outputId": "1fe83dc1-7f48-44ec-cee5-82893d015e09"
      },
      "execution_count": 62,
      "outputs": [
        {
          "output_type": "stream",
          "name": "stderr",
          "text": [
            "<ipython-input-62-eb22d5115620>:9: FutureWarning: \n",
            "\n",
            "Passing `palette` without assigning `hue` is deprecated and will be removed in v0.14.0. Assign the `x` variable to `hue` and set `legend=False` for the same effect.\n",
            "\n",
            "  sns.barplot(x='Pos', y='PTS', data=df_grouped, palette='viridis')\n",
            "/usr/local/lib/python3.10/dist-packages/seaborn/_base.py:949: FutureWarning: When grouping with a length-1 list-like, you will need to pass a length-1 tuple to get_group in a future version of pandas. Pass `(name,)` instead of `name` to silence this warning.\n",
            "  data_subset = grouped_data.get_group(pd_key)\n",
            "/usr/local/lib/python3.10/dist-packages/seaborn/_base.py:949: FutureWarning: When grouping with a length-1 list-like, you will need to pass a length-1 tuple to get_group in a future version of pandas. Pass `(name,)` instead of `name` to silence this warning.\n",
            "  data_subset = grouped_data.get_group(pd_key)\n",
            "/usr/local/lib/python3.10/dist-packages/seaborn/_base.py:949: FutureWarning: When grouping with a length-1 list-like, you will need to pass a length-1 tuple to get_group in a future version of pandas. Pass `(name,)` instead of `name` to silence this warning.\n",
            "  data_subset = grouped_data.get_group(pd_key)\n",
            "/usr/local/lib/python3.10/dist-packages/seaborn/_base.py:949: FutureWarning: When grouping with a length-1 list-like, you will need to pass a length-1 tuple to get_group in a future version of pandas. Pass `(name,)` instead of `name` to silence this warning.\n",
            "  data_subset = grouped_data.get_group(pd_key)\n",
            "/usr/local/lib/python3.10/dist-packages/seaborn/_base.py:949: FutureWarning: When grouping with a length-1 list-like, you will need to pass a length-1 tuple to get_group in a future version of pandas. Pass `(name,)` instead of `name` to silence this warning.\n",
            "  data_subset = grouped_data.get_group(pd_key)\n",
            "/usr/local/lib/python3.10/dist-packages/seaborn/_base.py:949: FutureWarning: When grouping with a length-1 list-like, you will need to pass a length-1 tuple to get_group in a future version of pandas. Pass `(name,)` instead of `name` to silence this warning.\n",
            "  data_subset = grouped_data.get_group(pd_key)\n",
            "/usr/local/lib/python3.10/dist-packages/seaborn/_base.py:949: FutureWarning: When grouping with a length-1 list-like, you will need to pass a length-1 tuple to get_group in a future version of pandas. Pass `(name,)` instead of `name` to silence this warning.\n",
            "  data_subset = grouped_data.get_group(pd_key)\n",
            "/usr/local/lib/python3.10/dist-packages/seaborn/_base.py:949: FutureWarning: When grouping with a length-1 list-like, you will need to pass a length-1 tuple to get_group in a future version of pandas. Pass `(name,)` instead of `name` to silence this warning.\n",
            "  data_subset = grouped_data.get_group(pd_key)\n",
            "/usr/local/lib/python3.10/dist-packages/seaborn/_base.py:949: FutureWarning: When grouping with a length-1 list-like, you will need to pass a length-1 tuple to get_group in a future version of pandas. Pass `(name,)` instead of `name` to silence this warning.\n",
            "  data_subset = grouped_data.get_group(pd_key)\n",
            "/usr/local/lib/python3.10/dist-packages/seaborn/_base.py:949: FutureWarning: When grouping with a length-1 list-like, you will need to pass a length-1 tuple to get_group in a future version of pandas. Pass `(name,)` instead of `name` to silence this warning.\n",
            "  data_subset = grouped_data.get_group(pd_key)\n",
            "/usr/local/lib/python3.10/dist-packages/seaborn/_base.py:949: FutureWarning: When grouping with a length-1 list-like, you will need to pass a length-1 tuple to get_group in a future version of pandas. Pass `(name,)` instead of `name` to silence this warning.\n",
            "  data_subset = grouped_data.get_group(pd_key)\n",
            "/usr/local/lib/python3.10/dist-packages/seaborn/_base.py:949: FutureWarning: When grouping with a length-1 list-like, you will need to pass a length-1 tuple to get_group in a future version of pandas. Pass `(name,)` instead of `name` to silence this warning.\n",
            "  data_subset = grouped_data.get_group(pd_key)\n"
          ]
        },
        {
          "output_type": "display_data",
          "data": {
            "text/plain": [
              "<Figure size 1000x600 with 1 Axes>"
            ],
            "image/png": "[encoded data removed]"
          },
          "metadata": {}
        }
      ]
    },
    {
      "cell_type": "markdown",
      "source": [
        "3.1 Estadísticas descriptivas: Proporciona un resumen estadístico del dataset, incluyendo medidas de tendencia central y dispersión para las variables numéricas."
      ],
      "metadata": {
        "id": "sfbyTRkVnVUH"
      }
    },
    {
      "cell_type": "code",
      "source": [
        "# Paso 1: Genero un resumen estadístico para las variables numéricas en el dataset de la temporada regular\n",
        "resumen_regular = df_regular.describe()\n",
        "print(\"Resumen estadístico de la temporada regular:\")\n",
        "print(resumen_regular)\n",
        "\n",
        "# Conclusión: He generado un resumen estadístico que incluye medidas de tendencia central y dispersión para la temporada regular.\n",
        "\n",
        "# Paso 2: Genero un resumen estadístico para las variables numéricas en el dataset de los playoffs\n",
        "resumen_playoff = df_playoff.describe()\n",
        "print(\"Resumen estadístico de los playoffs:\")\n",
        "print(resumen_playoff)\n",
        "\n",
        "# Conclusión: He generado un resumen estadístico que incluye medidas de tendencia central y dispersión para los playoffs.\n",
        "#citadescribe:https://pandas.pydata.org/docs/reference/api/pandas.DataFrame.describe.html\n"
      ],
      "metadata": {
        "colab": {
          "base_uri": "https://localhost:8080/"
        },
        "id": "1ntaxOT6niU_",
        "outputId": "ba3cecbb-cec4-42f8-f81f-8c28245c50e7"
      },
      "execution_count": 63,
      "outputs": [
        {
          "output_type": "stream",
          "name": "stdout",
          "text": [
            "Resumen estadístico de la temporada regular:\n",
            "               Rk         Age           G          GS          MP          FG  \\\n",
            "count  685.000000  685.000000  685.000000  685.000000  685.000000  685.000000   \n",
            "mean   284.014599   26.086131   39.363504   15.315328   17.093139    2.549781   \n",
            "std    166.746358    4.378963   25.471705   22.548774    9.015258    1.800988   \n",
            "min      1.000000   19.000000    1.000000    0.000000    0.500000    0.000000   \n",
            "25%    145.000000   23.000000   16.000000    0.000000   10.100000    1.200000   \n",
            "50%    295.000000   25.000000   38.000000    3.000000   16.200000    2.100000   \n",
            "75%    424.000000   29.000000   62.000000   23.000000   24.800000    3.600000   \n",
            "max    572.000000   38.000000   84.000000   82.000000   36.800000    7.800000   \n",
            "\n",
            "              FGA         FG%          3P         3PA  ...         FT%  \\\n",
            "count  685.000000  685.000000  685.000000  685.000000  ...  685.000000   \n",
            "mean     5.577810    0.439375    0.817518    2.347299  ...    0.680009   \n",
            "std      3.710252    0.122582    0.760415    1.942623  ...    0.261089   \n",
            "min      0.000000    0.000000    0.000000    0.000000  ...    0.000000   \n",
            "25%      2.900000    0.396000    0.200000    0.800000  ...    0.639000   \n",
            "50%      4.700000    0.443000    0.600000    1.900000  ...    0.756000   \n",
            "75%      7.700000    0.500000    1.200000    3.500000  ...    0.833000   \n",
            "max     16.400000    0.800000    3.600000    9.000000  ...    1.000000   \n",
            "\n",
            "              ORB         DRB         TRB         AST         STL         BLK  \\\n",
            "count  685.000000  685.000000  685.000000  685.000000  685.000000  685.000000   \n",
            "mean     0.796934    2.228029    3.018832    1.680292    0.551241    0.364818   \n",
            "std      0.726446    1.566798    2.155459    1.509417    0.371325    0.376817   \n",
            "min      0.000000    0.000000    0.000000    0.000000    0.000000    0.000000   \n",
            "25%      0.300000    1.100000    1.500000    0.700000    0.300000    0.100000   \n",
            "50%      0.600000    1.900000    2.600000    1.200000    0.500000    0.300000   \n",
            "75%      1.100000    3.000000    4.000000    2.300000    0.800000    0.500000   \n",
            "max      4.600000   10.100000   13.700000   10.900000    2.100000    2.400000   \n",
            "\n",
            "              TOV          PF         PTS  \n",
            "count  685.000000  685.000000  685.000000  \n",
            "mean     0.822482    1.399270    6.831971  \n",
            "std      0.604483    0.767191    4.847814  \n",
            "min      0.000000    0.000000    0.000000  \n",
            "25%      0.400000    0.900000    3.200000  \n",
            "50%      0.700000    1.400000    5.500000  \n",
            "75%      1.200000    1.900000    9.900000  \n",
            "max      3.400000    3.600000   20.200000  \n",
            "\n",
            "[8 rows x 27 columns]\n",
            "Resumen estadístico de los playoffs:\n",
            "               Rk         Age           G         GS          MP          FG  \\\n",
            "count  206.000000  206.000000  206.000000  206.00000  206.000000  206.000000   \n",
            "mean   108.582524   26.883495    7.776699    3.57767   19.163592    2.814078   \n",
            "std     62.422248    4.608160    5.455688    5.69735   13.040065    2.691803   \n",
            "min      1.000000   19.000000    1.000000    0.00000    1.000000    0.000000   \n",
            "25%     55.250000   23.000000    4.000000    0.00000    5.775000    0.700000   \n",
            "50%    108.500000   26.000000    6.000000    0.00000   17.700000    1.900000   \n",
            "75%    162.750000   30.000000   10.750000    5.00000   32.300000    4.300000   \n",
            "max    214.000000   39.000000   22.000000   22.00000   42.200000   11.800000   \n",
            "\n",
            "              FGA         FG%          3P         3PA  ...         FT%  \\\n",
            "count  206.000000  206.000000  206.000000  206.000000  ...  206.000000   \n",
            "mean     6.236893    0.405102    0.850971    2.514078  ...    0.571398   \n",
            "std      5.439835    0.188366    0.885203    2.291713  ...    0.368144   \n",
            "min      0.000000    0.000000    0.000000    0.000000  ...    0.000000   \n",
            "25%      1.625000    0.333000    0.000000    0.500000  ...    0.000000   \n",
            "50%      4.700000    0.429000    0.500000    2.000000  ...    0.679500   \n",
            "75%      9.450000    0.500000    1.500000    3.900000  ...    0.863250   \n",
            "max     21.300000    1.000000    3.500000    9.300000  ...    1.000000   \n",
            "\n",
            "              ORB         DRB         TRB         AST         STL         BLK  \\\n",
            "count  206.000000  206.000000  206.000000  206.000000  206.000000  206.000000   \n",
            "mean     0.812136    2.512621    3.319903    1.621359    0.512136    0.373301   \n",
            "std      0.898290    2.194347    2.856049    1.774104    0.486298    0.453943   \n",
            "min      0.000000    0.000000    0.000000    0.000000    0.000000    0.000000   \n",
            "25%      0.200000    1.000000    1.000000    0.325000    0.000000    0.000000   \n",
            "50%      0.500000    1.850000    2.750000    1.000000    0.400000    0.200000   \n",
            "75%      1.175000    3.575000    4.500000    2.175000    0.800000    0.500000   \n",
            "max      4.500000   12.600000   15.600000    8.800000    2.400000    2.500000   \n",
            "\n",
            "              TOV          PF         PTS  \n",
            "count  206.000000  206.000000  206.000000  \n",
            "mean     0.887864    1.557282    7.589320  \n",
            "std      0.876188    1.156116    7.130449  \n",
            "min      0.000000    0.000000    0.000000  \n",
            "25%      0.300000    0.500000    1.800000  \n",
            "50%      0.700000    1.500000    5.450000  \n",
            "75%      1.300000    2.300000   12.075000  \n",
            "max      4.600000    4.500000   27.800000  \n",
            "\n",
            "[8 rows x 27 columns]\n"
          ]
        }
      ]
    },
    {
      "cell_type": "markdown",
      "source": [
        "3.2 Identificación de tendencias: Analiza y discute cualquier tendencia notable que observes en los datos, apoyándote en las visualizaciones y estadísticas descriptivas."
      ],
      "metadata": {
        "id": "009hwy6uoqKh"
      }
    },
    {
      "cell_type": "markdown",
      "source": [
        "En los datos analizados, se observa una clara correlación positiva entre los puntos anotados y los minutos jugados por los jugadores. Según el gráfico de dispersión entre PTS y MP, se puede ver que los jugadores que pasan más tiempo en la cancha tienden a anotar más puntos. Este patrón está respaldado por las estadísticas descriptivas, donde la media de puntos por partido es de aproximadamente 10-15, con una desviación estándar significativa, lo que sugiere que algunos jugadores sobresalen. En los playoffs, la desviación estándar es aún mayor, lo que indica que algunos jugadores estrella tienen actuaciones excepcionales. Los valores atípicos presentes en los playoffs refuerzan esta tendencia de jugadores clave que tienen un impacto mucho mayor en momentos decisivos.\n",
        "\n",
        "Además, el gráfico de barras apiladas de PTS por Posición revela que las posiciones ofensivas, como los guardias y los aleros, son las que más contribuyen al puntaje total de los equipos. Esto se refleja también en las estadísticas descriptivas, donde se observa que los jugadores en posiciones ofensivas tienen una mayor dispersión en sus puntuaciones, lo que indica que algunos jugadores en estas posiciones superan significativamente la media. Las posiciones defensivas, como los centros, muestran una menor contribución en el puntaje total, lo que sugiere que su rol en el equipo está más enfocado en aspectos no relacionados directamente con la anotación, lo que coincide con sus menores medias de puntos.\n",
        "\n",
        "Por último, la distribución de los puntos también revela una tendencia clara en términos de rango intercuartil. Los cuartiles muestran que la mayoría de los jugadores anotan entre 5 y 20 puntos por partido, pero el rango superior, correspondiente a los jugadores ofensivos más destacados, es mucho más amplio. Esta variabilidad refleja las diferentes responsabilidades y habilidades de los jugadores en cada posición, confirmando que las posiciones ofensivas no solo anotan más, sino que tienen un rango mucho mayor de rendimiento en comparación con las posiciones defensivas o de apoyo."
      ],
      "metadata": {
        "id": "L1m55jO2qEFt"
      }
    },
    {
      "cell_type": "code",
      "source": [
        "# Paso 1: Selecciono solo las columnas numéricas para evitar el error\n",
        "df_regular_numerico = df_regular.select_dtypes(include=['float64', 'int64'])\n",
        "df_playoff_numerico = df_playoff.select_dtypes(include=['float64', 'int64'])\n",
        "\n",
        "# Paso 2: Genero la matriz de correlación para el dataset de la temporada regular\n",
        "correlacion_regular = df_regular_numerico.corr()\n",
        "\n",
        "# Paso 3: Genero la matriz de correlación para el dataset de los playoffs\n",
        "correlacion_playoff = df_playoff_numerico.corr()\n",
        "\n",
        "# Visualizo la matriz de correlación de la temporada regular\n",
        "print(\"Matriz de correlación para la temporada regular:\")\n",
        "print(correlacion_regular)\n",
        "\n",
        "# Visualizo la matriz de correlación de los playoffs\n",
        "print(\"Matriz de correlación para los playoffs:\")\n",
        "print(correlacion_playoff)\n",
        "#Explicaré mis conclusiones a continuación en un párrafo más extendidos y un análisis parecido al punto 3.2\n"
      ],
      "metadata": {
        "colab": {
          "base_uri": "https://localhost:8080/"
        },
        "id": "BIC_R9BWqSwN",
        "outputId": "e73cc0fa-5ea6-452e-b800-82df7849c9ff"
      },
      "execution_count": 65,
      "outputs": [
        {
          "output_type": "stream",
          "name": "stdout",
          "text": [
            "Matriz de correlación para la temporada regular:\n",
            "            Rk       Age         G        GS        MP        FG       FGA  \\\n",
            "Rk    1.000000 -0.017706  0.004066 -0.052089 -0.054063 -0.025508 -0.024842   \n",
            "Age  -0.017706  1.000000  0.066868  0.041079  0.134369  0.038941  0.048548   \n",
            "G     0.004066  0.066868  1.000000  0.644998  0.638283  0.601750  0.573073   \n",
            "GS   -0.052089  0.041079  0.644998  1.000000  0.768043  0.749690  0.716558   \n",
            "MP   -0.054063  0.134369  0.638283  0.768043  1.000000  0.896335  0.897739   \n",
            "FG   -0.025508  0.038941  0.601750  0.749690  0.896335  1.000000  0.967098   \n",
            "FGA  -0.024842  0.048548  0.573073  0.716558  0.897739  0.967098  1.000000   \n",
            "FG%   0.010554  0.020816  0.334200  0.236868  0.301528  0.380493  0.214352   \n",
            "3P   -0.007543  0.151812  0.501368  0.534399  0.703056  0.672721  0.765532   \n",
            "3PA  -0.013595  0.126854  0.470726  0.519965  0.709462  0.667953  0.789957   \n",
            "3P%   0.065771  0.090654  0.307254  0.158663  0.294734  0.265077  0.290671   \n",
            "2P   -0.030019 -0.032736  0.498162  0.669782  0.767023  0.916466  0.824599   \n",
            "2PA  -0.026923 -0.026920  0.489361  0.664333  0.787310  0.924032  0.877513   \n",
            "2P%  -0.002149 -0.010953  0.274289  0.174019  0.255973  0.292063  0.177333   \n",
            "eFG%  0.027423  0.084870  0.391055  0.255822  0.357667  0.391542  0.262935   \n",
            "FT   -0.050622 -0.001814  0.465777  0.615387  0.717425  0.813451  0.796305   \n",
            "FTA  -0.057175 -0.021886  0.470423  0.620026  0.718185  0.813562  0.779906   \n",
            "FT%  -0.021327  0.059951  0.407450  0.244496  0.391703  0.360323  0.370564   \n",
            "ORB  -0.033761 -0.037879  0.315137  0.397926  0.451438  0.454284  0.321045   \n",
            "DRB  -0.019589  0.065641  0.517142  0.658161  0.771437  0.758211  0.672582   \n",
            "TRB  -0.025349  0.034911  0.481161  0.612179  0.712219  0.703675  0.596603   \n",
            "AST   0.011897  0.161194  0.438630  0.565412  0.705482  0.672364  0.704594   \n",
            "STL   0.003558  0.109942  0.375122  0.486222  0.727830  0.597195  0.613251   \n",
            "BLK  -0.061889  0.002725  0.330847  0.462456  0.485314  0.455888  0.340184   \n",
            "TOV  -0.026209  0.016058  0.488250  0.639069  0.795683  0.819774  0.821446   \n",
            "PF    0.022517  0.110555  0.552717  0.602253  0.785024  0.678771  0.627924   \n",
            "PTS  -0.029252  0.052610  0.607395  0.748051  0.900466  0.989599  0.976754   \n",
            "\n",
            "           FG%        3P       3PA  ...       FT%       ORB       DRB  \\\n",
            "Rk    0.010554 -0.007543 -0.013595  ... -0.021327 -0.033761 -0.019589   \n",
            "Age   0.020816  0.151812  0.126854  ...  0.059951 -0.037879  0.065641   \n",
            "G     0.334200  0.501368  0.470726  ...  0.407450  0.315137  0.517142   \n",
            "GS    0.236868  0.534399  0.519965  ...  0.244496  0.397926  0.658161   \n",
            "MP    0.301528  0.703056  0.709462  ...  0.391703  0.451438  0.771437   \n",
            "FG    0.380493  0.672721  0.667953  ...  0.360323  0.454284  0.758211   \n",
            "FGA   0.214352  0.765532  0.789957  ...  0.370564  0.321045  0.672582   \n",
            "FG%   1.000000  0.026580 -0.052923  ...  0.261559  0.473570  0.423736   \n",
            "3P    0.026580  1.000000  0.974929  ...  0.372855 -0.102565  0.313038   \n",
            "3PA  -0.052923  0.974929  1.000000  ...  0.369089 -0.113938  0.307246   \n",
            "3P%   0.174683  0.506383  0.429627  ...  0.277071 -0.150074  0.091340   \n",
            "2P    0.471768  0.321626  0.328716  ...  0.259963  0.636172  0.800277   \n",
            "2PA   0.362494  0.382323  0.399397  ...  0.267022  0.569144  0.765989   \n",
            "2P%   0.781614  0.065719  0.047620  ...  0.266962  0.299877  0.295176   \n",
            "eFG%  0.927546  0.261256  0.163311  ...  0.328335  0.317652  0.370639   \n",
            "FT    0.269396  0.490646  0.500353  ...  0.417889  0.381681  0.633664   \n",
            "FTA   0.316962  0.429204  0.438696  ...  0.361228  0.466436  0.684130   \n",
            "FT%   0.261559  0.372855  0.369089  ...  1.000000  0.093500  0.236921   \n",
            "ORB   0.473570 -0.102565 -0.113938  ...  0.093500  1.000000  0.735826   \n",
            "DRB   0.423736  0.313038  0.307246  ...  0.236921  0.735826  1.000000   \n",
            "TRB   0.467038  0.192028  0.184084  ...  0.203650  0.870269  0.973573   \n",
            "AST   0.134849  0.547555  0.555671  ...  0.294734  0.130276  0.465267   \n",
            "STL   0.176290  0.476481  0.497386  ...  0.279160  0.313904  0.502245   \n",
            "BLK   0.434891  0.066443  0.047494  ...  0.111404  0.678212  0.665638   \n",
            "TOV   0.246611  0.517516  0.538940  ...  0.313130  0.369912  0.658808   \n",
            "PF    0.388473  0.399487  0.395037  ...  0.305794  0.572071  0.724472   \n",
            "PTS   0.334098  0.741719  0.735920  ...  0.398279  0.386876  0.721719   \n",
            "\n",
            "           TRB       AST       STL       BLK       TOV        PF       PTS  \n",
            "Rk   -0.025349  0.011897  0.003558 -0.061889 -0.026209  0.022517 -0.029252  \n",
            "Age   0.034911  0.161194  0.109942  0.002725  0.016058  0.110555  0.052610  \n",
            "G     0.481161  0.438630  0.375122  0.330847  0.488250  0.552717  0.607395  \n",
            "GS    0.612179  0.565412  0.486222  0.462456  0.639069  0.602253  0.748051  \n",
            "MP    0.712219  0.705482  0.727830  0.485314  0.795683  0.785024  0.900466  \n",
            "FG    0.703675  0.672364  0.597195  0.455888  0.819774  0.678771  0.989599  \n",
            "FGA   0.596603  0.704594  0.613251  0.340184  0.821446  0.627924  0.976754  \n",
            "FG%   0.467038  0.134849  0.176290  0.434891  0.246611  0.388473  0.334098  \n",
            "3P    0.192028  0.547555  0.476481  0.066443  0.517516  0.399487  0.741719  \n",
            "3PA   0.184084  0.555671  0.497386  0.047494  0.538940  0.395037  0.735920  \n",
            "3P%   0.014810  0.256977  0.242749 -0.046879  0.162673  0.135979  0.305964  \n",
            "2P    0.795914  0.562965  0.505860  0.548084  0.769237  0.652091  0.866276  \n",
            "2PA   0.748518  0.617855  0.526521  0.471603  0.806484  0.629735  0.885295  \n",
            "2P%   0.314683  0.096965  0.176343  0.322679  0.182457  0.292433  0.258505  \n",
            "eFG%  0.375581  0.175020  0.222062  0.347395  0.228705  0.376110  0.374410  \n",
            "FT    0.589275  0.589278  0.456723  0.369929  0.750318  0.563310  0.854524  \n",
            "FTA   0.654371  0.563682  0.455262  0.431485  0.751730  0.589819  0.842243  \n",
            "FT%   0.203650  0.294734  0.279160  0.111404  0.313130  0.305794  0.398279  \n",
            "ORB   0.870269  0.130276  0.313904  0.678212  0.369912  0.572071  0.386876  \n",
            "DRB   0.973573  0.465267  0.502245  0.665638  0.658808  0.724472  0.721719  \n",
            "TRB   1.000000  0.381752  0.471579  0.711872  0.604537  0.719435  0.654436  \n",
            "AST   0.381752  1.000000  0.594337  0.156731  0.775979  0.466456  0.687805  \n",
            "STL   0.471579  0.594337  1.000000  0.346423  0.585166  0.594725  0.597451  \n",
            "BLK   0.711872  0.156731  0.346423  1.000000  0.354630  0.581640  0.412777  \n",
            "TOV   0.604537  0.775979  0.585166  0.354630  1.000000  0.666854  0.819841  \n",
            "PF    0.719435  0.466456  0.594725  0.581640  0.666854  1.000000  0.664329  \n",
            "PTS   0.654436  0.687805  0.597451  0.412777  0.819841  0.664329  1.000000  \n",
            "\n",
            "[27 rows x 27 columns]\n",
            "Matriz de correlación para los playoffs:\n",
            "            Rk       Age         G        GS        MP        FG       FGA  \\\n",
            "Rk    1.000000 -0.049383 -0.009328 -0.029823 -0.112237 -0.092859 -0.085211   \n",
            "Age  -0.049383  1.000000 -0.048577  0.031932  0.192751  0.129947  0.132789   \n",
            "G    -0.009328 -0.048577  1.000000  0.605865  0.375353  0.335336  0.323011   \n",
            "GS   -0.029823  0.031932  0.605865  1.000000  0.708324  0.654035  0.649282   \n",
            "MP   -0.112237  0.192751  0.375353  0.708324  1.000000  0.879823  0.905331   \n",
            "FG   -0.092859  0.129947  0.335336  0.654035  0.879823  1.000000  0.973261   \n",
            "FGA  -0.085211  0.132789  0.323011  0.649282  0.905331  0.973261  1.000000   \n",
            "FG%  -0.018435 -0.033452  0.250113  0.229710  0.306492  0.384061  0.278401   \n",
            "3P   -0.038836  0.159195  0.352662  0.568862  0.744105  0.638239  0.714890   \n",
            "3PA  -0.039405  0.132956  0.329465  0.563780  0.771179  0.655244  0.761059   \n",
            "3P%  -0.004475  0.086701  0.315209  0.223330  0.354647  0.279397  0.284557   \n",
            "2P   -0.096538  0.094188  0.262143  0.561585  0.765804  0.952313  0.889770   \n",
            "2PA  -0.094043  0.105618  0.250886  0.561763  0.792364  0.952203  0.927953   \n",
            "2P%  -0.028562 -0.117794  0.264623  0.213572  0.265898  0.337011  0.254786   \n",
            "eFG% -0.003551  0.016061  0.265924  0.228506  0.323245  0.354646  0.271125   \n",
            "FT   -0.133393  0.113845  0.179742  0.462801  0.671133  0.753605  0.737130   \n",
            "FTA  -0.130422  0.107648  0.193882  0.477535  0.666994  0.768294  0.736634   \n",
            "FT%  -0.130461  0.179379  0.402723  0.357363  0.562036  0.477763  0.495053   \n",
            "ORB   0.004928  0.073406  0.251187  0.436019  0.531679  0.498805  0.419756   \n",
            "DRB  -0.067034  0.134400  0.263297  0.559092  0.777001  0.797602  0.765414   \n",
            "TRB  -0.050723  0.125602  0.281072  0.564322  0.761405  0.766976  0.717294   \n",
            "AST  -0.131112  0.175669  0.310698  0.584128  0.767470  0.782942  0.812223   \n",
            "STL  -0.086254  0.138642  0.229384  0.472654  0.718351  0.630615  0.667832   \n",
            "BLK  -0.038544  0.044678  0.278063  0.472999  0.566434  0.514292  0.476101   \n",
            "TOV  -0.088827  0.116960  0.183727  0.531728  0.769388  0.822952  0.850247   \n",
            "PF   -0.049267  0.168909  0.322219  0.581787  0.828779  0.678348  0.694199   \n",
            "PTS  -0.101473  0.141026  0.335633  0.659598  0.893527  0.987890  0.973668   \n",
            "\n",
            "           FG%        3P       3PA  ...       FT%       ORB       DRB  \\\n",
            "Rk   -0.018435 -0.038836 -0.039405  ... -0.130461  0.004928 -0.067034   \n",
            "Age  -0.033452  0.159195  0.132956  ...  0.179379  0.073406  0.134400   \n",
            "G     0.250113  0.352662  0.329465  ...  0.402723  0.251187  0.263297   \n",
            "GS    0.229710  0.568862  0.563780  ...  0.357363  0.436019  0.559092   \n",
            "MP    0.306492  0.744105  0.771179  ...  0.562036  0.531679  0.777001   \n",
            "FG    0.384061  0.638239  0.655244  ...  0.477763  0.498805  0.797602   \n",
            "FGA   0.278401  0.714890  0.761059  ...  0.495053  0.419756  0.765414   \n",
            "FG%   1.000000  0.183193  0.096154  ...  0.302299  0.361515  0.294536   \n",
            "3P    0.183193  1.000000  0.957710  ...  0.422346  0.098476  0.410139   \n",
            "3PA   0.096154  0.957710  1.000000  ...  0.441258  0.078847  0.451325   \n",
            "3P%   0.402880  0.540141  0.426114  ...  0.286790  0.056762  0.152675   \n",
            "2P    0.390383  0.373093  0.410193  ...  0.408875  0.562269  0.798445   \n",
            "2PA   0.325018  0.425685  0.464558  ...  0.422759  0.528378  0.785726   \n",
            "2P%   0.786948  0.131318  0.131763  ...  0.305263  0.249128  0.240678   \n",
            "eFG%  0.959801  0.318078  0.210387  ...  0.304102  0.280908  0.253372   \n",
            "FT    0.251340  0.425637  0.445659  ...  0.483554  0.393669  0.658668   \n",
            "FTA   0.293606  0.381614  0.397962  ...  0.446341  0.465172  0.691454   \n",
            "FT%   0.302299  0.422346  0.441258  ...  1.000000  0.297811  0.400583   \n",
            "ORB   0.361515  0.098476  0.078847  ...  0.297811  1.000000  0.654359   \n",
            "DRB   0.294536  0.410139  0.451325  ...  0.400583  0.654359  1.000000   \n",
            "TRB   0.339085  0.344431  0.369922  ...  0.400054  0.815246  0.971256   \n",
            "AST   0.191555  0.638831  0.681697  ...  0.434562  0.273972  0.563419   \n",
            "STL   0.183096  0.523673  0.584447  ...  0.402696  0.328299  0.537941   \n",
            "BLK   0.272483  0.289289  0.300368  ...  0.295439  0.466864  0.564389   \n",
            "TOV   0.206315  0.573510  0.624038  ...  0.377867  0.428079  0.671558   \n",
            "PF    0.279260  0.543424  0.558919  ...  0.516884  0.596890  0.647282   \n",
            "PTS   0.364313  0.692817  0.704489  ...  0.512483  0.469265  0.787534   \n",
            "\n",
            "           TRB       AST       STL       BLK       TOV        PF       PTS  \n",
            "Rk   -0.050723 -0.131112 -0.086254 -0.038544 -0.088827 -0.049267 -0.101473  \n",
            "Age   0.125602  0.175669  0.138642  0.044678  0.116960  0.168909  0.141026  \n",
            "G     0.281072  0.310698  0.229384  0.278063  0.183727  0.322219  0.335633  \n",
            "GS    0.564322  0.584128  0.472654  0.472999  0.531728  0.581787  0.659598  \n",
            "MP    0.761405  0.767470  0.718351  0.566434  0.769388  0.828779  0.893527  \n",
            "FG    0.766976  0.782942  0.630615  0.514292  0.822952  0.678348  0.987890  \n",
            "FGA   0.717294  0.812223  0.667832  0.476101  0.850247  0.694199  0.973668  \n",
            "FG%   0.339085  0.191555  0.183096  0.272483  0.206315  0.279260  0.364313  \n",
            "3P    0.344431  0.638831  0.523673  0.289289  0.573510  0.543424  0.692817  \n",
            "3PA   0.369922  0.681697  0.584447  0.300368  0.624038  0.558919  0.704489  \n",
            "3P%   0.134071  0.255685  0.182881  0.112730  0.204979  0.275702  0.309280  \n",
            "2P    0.787673  0.690309  0.553124  0.505029  0.765359  0.603087  0.916362  \n",
            "2PA   0.766957  0.717166  0.575499  0.476863  0.802363  0.625872  0.924592  \n",
            "2P%   0.262457  0.205327  0.186050  0.230519  0.177510  0.217356  0.314474  \n",
            "eFG%  0.282356  0.190493  0.180416  0.227570  0.182443  0.284880  0.350128  \n",
            "FT    0.627069  0.622151  0.504105  0.437289  0.672921  0.574619  0.824937  \n",
            "FTA   0.674465  0.597352  0.501230  0.471188  0.677383  0.572058  0.826525  \n",
            "FT%   0.400054  0.434562  0.402696  0.295439  0.377867  0.516884  0.512483  \n",
            "ORB   0.815246  0.273972  0.328299  0.466864  0.428079  0.596890  0.469265  \n",
            "DRB   0.971256  0.563419  0.537941  0.564389  0.671558  0.647282  0.787534  \n",
            "TRB   1.000000  0.517591  0.514712  0.578524  0.648070  0.682019  0.749839  \n",
            "AST   0.517591  1.000000  0.663660  0.348148  0.759970  0.561796  0.797513  \n",
            "STL   0.514712  0.663660  1.000000  0.435248  0.662181  0.623895  0.643626  \n",
            "BLK   0.578524  0.348148  0.435248  1.000000  0.416663  0.480313  0.513515  \n",
            "TOV   0.648070  0.759970  0.662181  0.416663  1.000000  0.641063  0.829244  \n",
            "PF    0.682019  0.561796  0.623895  0.480313  0.641063  1.000000  0.696683  \n",
            "PTS   0.749839  0.797513  0.643626  0.513515  0.829244  0.696683  1.000000  \n",
            "\n",
            "[27 rows x 27 columns]\n"
          ]
        }
      ]
    },
    {
      "cell_type": "markdown",
      "source": [
        "n el análisis de correlaciones, se destacan algunas relaciones importantes que no fueron mencionadas anteriormente. Por ejemplo, en la temporada regular, existe una correlación moderada entre los puntos anotados (PTS) y los tiros de tres puntos intentados (3PA), con un valor de 0.735. Esto sugiere que los jugadores que intentan más tiros desde el perímetro tienden a anotar más puntos en general, aunque no necesariamente dependen exclusivamente de estos tiros para obtener un alto puntaje. Además, hay una relación significativa entre las asistencias (AST) y los intentos de tiros de campo (FGA), lo que indica que los jugadores que generan más oportunidades de tiro para sí mismos y sus compañeros suelen ser más productivos ofensivamente.\n",
        "\n",
        "En los playoffs, una correlación interesante aparece entre los bloqueos (BLK) y los rebotes totales (TRB), con un valor de 0.579, lo que refleja la influencia de los jugadores defensivos en proteger el aro y controlar el juego en el poste. Los jugadores que son efectivos defensivamente, capturando rebotes y realizando bloqueos, juegan un papel crucial en los partidos de playoffs, donde las jugadas defensivas tienen un mayor peso en el resultado final. Aunque su impacto en el puntaje puede no ser directo, estas contribuciones defensivas influyen en el desarrollo general del partido y limitan las oportunidades de anotación del equipo rival.\n",
        "\n",
        "Por último, se observa que en ambas fases de la competencia, la relación entre los tiros libres anotados (FT) y los puntos totales (PTS) es significativa, especialmente en los playoffs, donde la correlación es de 0.825. Esto indica que los tiros libres juegan un papel fundamental en los partidos más cerrados, donde cada punto cuenta. Los jugadores que son capaces de conseguir faltas y convertir desde la línea de tiro libre tienen un impacto considerable en el marcador final, lo que refuerza la importancia de aprovechar estas oportunidades en momentos clave del juego."
      ],
      "metadata": {
        "id": "XP9bxxDFqG4v"
      }
    }
  ]
}